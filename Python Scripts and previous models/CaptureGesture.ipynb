{
 "cells": [
  {
   "cell_type": "code",
   "execution_count": 4,
   "source": [
    "import cv2\n",
    "import os\n",
    "import time\n",
    "import sys\n",
    "\n",
    "from datetime import datetime\n",
    "def gettime():\n",
    "    return datetime.now().minute*60 + datetime.now().second + datetime.now().microsecond/1000000"
   ],
   "outputs": [],
   "metadata": {}
  },
  {
   "cell_type": "code",
   "execution_count": 7,
   "source": [
    "folderName = input(\"Enter the folder name to save the images: \")\n",
    "waitTime = float(input(\"Enter time to wait between different images\"))\n",
    "maxImages = int(input(\"Enter total no of images to capture: \"))\n",
    "\n",
    "if not os.path.exists(folderName):\n",
    "    os.makedirs(folderName)"
   ],
   "outputs": [],
   "metadata": {}
  },
  {
   "cell_type": "code",
   "execution_count": null,
   "source": [
    "cam = cv2.VideoCapture(0)\n",
    "time.sleep(1)\n",
    "img_counter = len(os.listdir('./'+folderName+'/'))\n",
    "ptime = gettime()\n",
    "reclx = 50 \n",
    "recrx = 300\n",
    "recty = 100 \n",
    "recby = 350\n",
    "while True:\n",
    "    ret, frame = cam.read()\n",
    "    if ret:\n",
    "        count = waitTime\n",
    "        while count>0:\n",
    "            ptime = gettime()\n",
    "            ntime = gettime()\n",
    "            dec = min(1,waitTime)\n",
    "            while(ntime-ptime < dec):\n",
    "                ret , frame = cam.read()\n",
    "                ret , frameForText = cam.read()\n",
    "                cv2.putText(frameForText, \"Capturing in \"+str(count), (30, 50), cv2.FONT_HERSHEY_COMPLEX, 1, (0,0,0), 3)\n",
    "                cv2.rectangle(frameForText, (reclx, recby), (recrx, recty), (255,0,0), 2)\n",
    "                cv2.imshow('frame', frameForText)\n",
    "                key = cv2.waitKey(1)\n",
    "                if key == ord('p'):\n",
    "                    while(True):\n",
    "                        print(\"Waiting\")\n",
    "                        key = cv2.waitKey(1)\n",
    "                        if key == ord('c'):\n",
    "                            break\n",
    "                if key == ord('q'):\n",
    "                    print(\"Created folder: \" + folderName)\n",
    "                    cv2.destroyAllWindows()\n",
    "                    cam.release()\n",
    "                    sys.exit()\n",
    "                ntime = gettime()\n",
    "            count -= 1\n",
    "        print(\"Saving Image\")\n",
    "        frame = frame[recty:recby,reclx:recrx]\n",
    "        cv2.imwrite(folderName+\"/frame%d.jpg\" % img_counter, frame)\n",
    "        time.sleep(0.1)\n",
    "        img_counter += 1\n",
    "        if(img_counter > maxImages):\n",
    "            print(\"Created folder: \" + folderName)\n",
    "            cv2.destroyAllWindows()\n",
    "            cam.release()\n",
    "            sys.exit()\n",
    "        print(\"Current File %d \\r\" % img_counter, end= '')\n",
    "    else:\n",
    "        break\n",
    "    key = cv2.waitKey(1)\n",
    "    if key == ord('p'):\n",
    "        while(True):\n",
    "            print(\"Waiting\")\n",
    "            key = cv2.waitKey(1)\n",
    "            if key == ord('c'):\n",
    "                break\n",
    "    # Break if 'q' is pressed\n",
    "    if key == ord('q'):\n",
    "        print(\"Created folder: \" + folderName)\n",
    "        cv2.destroyAllWindows()\n",
    "        cam.release()\n",
    "        sys.exit()"
   ],
   "outputs": [],
   "metadata": {}
  }
 ],
 "metadata": {
  "orig_nbformat": 4,
  "language_info": {
   "name": "python",
   "version": "3.9.5",
   "mimetype": "text/x-python",
   "codemirror_mode": {
    "name": "ipython",
    "version": 3
   },
   "pygments_lexer": "ipython3",
   "nbconvert_exporter": "python",
   "file_extension": ".py"
  },
  "kernelspec": {
   "name": "python3",
   "display_name": "Python 3.9.5 64-bit"
  },
  "interpreter": {
   "hash": "916dbcbb3f70747c44a77c7bcd40155683ae19c65e1c03b4aa3499c5328201f1"
  }
 },
 "nbformat": 4,
 "nbformat_minor": 2
}
{
  "nbformat": 4,
  "nbformat_minor": 0,
  "metadata": {
    "colab": {
      "name": "RajatMLmodel.ipynb",
      "provenance": []
    },
    "kernelspec": {
      "name": "python3",
      "display_name": "Python 3"
    },
    "language_info": {
      "name": "python"
    }
  },
  "cells": [
    {
      "cell_type": "code",
      "metadata": {
        "id": "dGtT_dcmW3FU"
      },
      "source": [
        "import os\n",
        "import cv2\n",
        "import numpy as np\n",
        "import pandas as pd\n",
        "import sklearn\n",
        "from tqdm import tqdm\n",
        "import skimage\n",
        "from skimage import transform\n",
        "from numpy import load\n",
        "from sklearn.model_selection import train_test_split\n",
        "from google.colab import drive\n",
        "import matplotlib.pyplot as plt\n",
        "import random\n",
        "import tensorflow as tf\n",
        "from tensorflow.keras.models import Sequential, Model\n",
        "from tensorflow.keras.layers import Dense, Conv2D, MaxPooling2D, Flatten, Dropout, GlobalAveragePooling2D, Concatenate, Input\n",
        "from IPython.display import display, Javascript, Image\n",
        "from google.colab.output import eval_js\n",
        "from base64 import b64decode"
      ],
      "execution_count": null,
      "outputs": []
    },
    {
      "cell_type": "code",
      "metadata": {
        "id": "u7BRadTxXBm9"
      },
      "source": [
        "drive.mount('/content/drive')"
      ],
      "execution_count": null,
      "outputs": []
    },
    {
      "cell_type": "code",
      "metadata": {
        "id": "vXoQOVKWXgKy"
      },
      "source": [
        "# !mkdir \"/content/Data\"\n",
        "# !unzip \"/content/drive/Shareddrives/Multiverse Clones/Hand Gestures.zip\" -d \"/content/Data\""
      ],
      "execution_count": null,
      "outputs": []
    },
    {
      "cell_type": "code",
      "metadata": {
        "id": "ntdRXlqT4j98"
      },
      "source": [
        "# img_float32 = np.float32(x_train[0])\n",
        "# gryimg = cv2.cvtColor(img_float32, cv2.COLOR_BGR2GRAY)\n",
        "\n",
        "# CONVERTING IMAGE FILES TO ARRAY AND ASSIGNING LABELS\n",
        "# imageSize = 50\n",
        "def get_data(folder,countMax):\n",
        "    x = []\n",
        "    y = []\n",
        "    for folderName in os.listdir(folder):\n",
        "        # if folderName in ['A', 'B', 'C', 'D', 'E', 'F', 'G', 'H', 'I', 'J', 'K', 'L', 'M', 'N', 'O', 'P', 'Q', 'R', 'S', 'T', 'U', 'V', 'W', 'X', 'Y', 'Z']:\n",
        "        #     label = ord(folderName) - 65\n",
        "        # elif folderName in ['del']:\n",
        "        #     label = 26\n",
        "        # elif folderName in ['nothing']:\n",
        "        #     label = 27\n",
        "        # elif folderName in ['space']:\n",
        "        #     label = 28\n",
        "        # else:\n",
        "        #     label = 29\n",
        "        label = int(folderName[0:2])\n",
        "        print(folderName , label)\n",
        "        count = 0\n",
        "        for image_filename in tqdm(os.listdir(folder + \"/\" + folderName)[0:countMax]):\n",
        "            img = cv2.imread(folder +'/' + folderName + '/' + image_filename)\n",
        "            if img is not None:\n",
        "                # img_small_size = skimage.transform.resize(img, (imageSize, imageSize, 3))\n",
        "                # x.append(np.array(img_small_size))\n",
        "                img = cv2.Canny(img, 100, 200)\n",
        "                x.append(img)\n",
        "                y.append(label)\n",
        "    x = np.array(x)\n",
        "    y = np.array(y)\n",
        "    return x, y\n",
        "\n",
        "def saveNpy(name,array):\n",
        "  np.save(name,array)\n",
        "\n",
        "def loadNpy(location):\n",
        "  return load(location)\n",
        "  # load('/content/drive/Shareddrives/Multiverse Clones/SelfMadeData/NpyFiles/data_train_attribute.npy')\n",
        "\n",
        "def cropImage(a,b):\n",
        "  for i in range(0,b):\n",
        "    yb = 0\n",
        "    yt = a.shape[1]\n",
        "    for i in range(0,len(a)):\n",
        "      for j in range(0,len(a[i])):\n",
        "        if(a[i][j]!=0):\n",
        "          yt = min(yt,i)\n",
        "          yb = max(yb,i)\n",
        "          break\n",
        "\n",
        "    xl = a.shape[1]\n",
        "    xr = 0\n",
        "    for j in range(0,len(a[0])):\n",
        "      for i in range(0,len(a)):\n",
        "        if(a[i][j]!=0):\n",
        "          xl = min(xl,j)\n",
        "          xr = max(xr,j)\n",
        "          break\n",
        "    a = a[yt:yb,xl:xr]\n",
        "  return a\n",
        "\n",
        "def showGrayImage(img):\n",
        "  plt.imshow(img,cmap = 'gray')\n",
        "  plt.show()\n",
        "\n",
        "def resizeImage(img,imageSize):\n",
        "  return skimage.transform.resize(img, (imageSize, imageSize))\n",
        "\n",
        "def oneHotEncoding(a,size):\n",
        "  return tf.one_hot(a.reshape(-1), size)\n",
        "\n",
        "def getOutline(img):\n",
        "  outline_kernel = np.array([[-1, -1, -1],\n",
        "                           [-1, 8, -1],\n",
        "                           [-1, -1, -1]])\n",
        "  return cv2.filter2D(img, -1, outline_kernel)\n",
        "\n",
        "def convertImagesToOutline(a):\n",
        "  b = []\n",
        "  for i in a:\n",
        "    tmp = getOutline(i)\n",
        "    b.append(tmp)\n",
        "  return np.array(b)\n",
        "\n",
        "def cropAndResize(a):\n",
        "  b = []\n",
        "  for i in tqdm(a):\n",
        "    b.append(resizeImage(cropImage(i,3),50))\n",
        "  return np.array(b)\n",
        "\n",
        "def take_photo(filename='photo.jpg', quality=1):\n",
        "  js = Javascript('''\n",
        "    async function takePhoto(quality) {\n",
        "      const div = document.createElement('div');\n",
        "      const capture = document.createElement('button');\n",
        "      capture.textContent = 'Capture';\n",
        "      div.appendChild(capture);\n",
        "\n",
        "      const video = document.createElement('video');\n",
        "      video.style.display = 'block';\n",
        "      const stream = await navigator.mediaDevices.getUserMedia({video: true});\n",
        "\n",
        "      document.body.appendChild(div);\n",
        "      div.appendChild(video);\n",
        "      video.srcObject = stream;\n",
        "      await video.play();\n",
        "\n",
        "      // Resize the output to fit the video element.\n",
        "      google.colab.output.setIframeHeight(document.documentElement.scrollHeight, true);\n",
        "\n",
        "      // Wait for Capture to be clicked.\n",
        "      await new Promise((resolve) => capture.onclick = resolve);\n",
        "\n",
        "      const canvas = document.createElement('canvas');\n",
        "      canvas.width = video.videoWidth;\n",
        "      canvas.height = video.videoHeight;\n",
        "      canvas.getContext('2d').drawImage(video, 0, 0);\n",
        "      stream.getVideoTracks()[0].stop();\n",
        "      div.remove();\n",
        "      return canvas.toDataURL('image/jpeg', quality);\n",
        "    }\n",
        "    ''')\n",
        "  display(js)\n",
        "  data = eval_js('takePhoto({})'.format(quality))\n",
        "  binary = b64decode(data.split(',')[1])\n",
        "  with open(filename, 'wb') as f:\n",
        "    f.write(binary)\n",
        "  return filename\n"
      ],
      "execution_count": null,
      "outputs": []
    },
    {
      "cell_type": "code",
      "metadata": {
        "id": "yQ-cGDa0XecI"
      },
      "source": [
        "# x, y = get_data(\"/content/Data/\",200)\n",
        "# x_train, x_test, y_train, y_test = train_test_split(x, y, test_size = 0.3, random_state = 2)\n",
        "# del x\n",
        "# del y"
      ],
      "execution_count": null,
      "outputs": []
    },
    {
      "cell_type": "code",
      "metadata": {
        "id": "cDG9gHslCweY"
      },
      "source": [
        "# x_train = cropAndResize(x_train)\n",
        "# x_test = cropAndResize(x_test)"
      ],
      "execution_count": null,
      "outputs": []
    },
    {
      "cell_type": "code",
      "metadata": {
        "id": "3TmjSvbLIaFn"
      },
      "source": [
        "# saveNpy('x_train.npy',x_train)\n",
        "# saveNpy('x_test.npy',x_test)\n",
        "# saveNpy('y_train.npy',y_train)\n",
        "# saveNpy('y_test.npy',y_test)"
      ],
      "execution_count": null,
      "outputs": []
    },
    {
      "cell_type": "code",
      "metadata": {
        "id": "I3XA_d98KOe-"
      },
      "source": [
        "x_train = load('/content/drive/Shareddrives/Multiverse Clones/WorkingModelData/Npy of 200pg/x_train.npy')\n",
        "x_test = load('/content/drive/Shareddrives/Multiverse Clones/WorkingModelData/Npy of 200pg/x_test.npy')\n",
        "y_train = load('/content/drive/Shareddrives/Multiverse Clones/WorkingModelData/Npy of 200pg/y_train.npy')\n",
        "y_test = load('/content/drive/Shareddrives/Multiverse Clones/WorkingModelData/Npy of 200pg/y_test.npy')"
      ],
      "execution_count": null,
      "outputs": []
    },
    {
      "cell_type": "code",
      "metadata": {
        "id": "25Z2sWcpXpIN"
      },
      "source": [
        "y_train = oneHotEncoding(y_train,11)\n",
        "y_test = oneHotEncoding(y_test,11)"
      ],
      "execution_count": null,
      "outputs": []
    },
    {
      "cell_type": "code",
      "metadata": {
        "id": "gvWCCqe8Ll26"
      },
      "source": [
        "rnd_idx = random.randint(0,len(x_train)-1)\n",
        "img = x_train[rnd_idx]\n",
        "label = y_train[rnd_idx]\n",
        "\n",
        "showGrayImage(img)\n",
        "print(label)"
      ],
      "execution_count": null,
      "outputs": []
    },
    {
      "cell_type": "code",
      "metadata": {
        "id": "bIn8XeTudYRJ"
      },
      "source": [
        "# x_train = convertImagesToOutline(x_train)\n",
        "# x_test = convertImagesToOutline(x_test)"
      ],
      "execution_count": null,
      "outputs": []
    },
    {
      "cell_type": "code",
      "metadata": {
        "id": "jqe-vkL6T4wp"
      },
      "source": [
        "# Set input shape\n",
        "sample_shape = x_train[0].shape\n",
        "img_width, img_height = sample_shape[0], sample_shape[1]\n",
        "input_shape = (img_width, img_height, 1)\n",
        "\n",
        "# Reshape data \n",
        "x_train_model = x_train.reshape(len(x_train), input_shape[0], input_shape[1], input_shape[2])\n",
        "x_test_model  = x_test.reshape(len(x_test), input_shape[0], input_shape[1], input_shape[2])"
      ],
      "execution_count": null,
      "outputs": []
    },
    {
      "cell_type": "code",
      "metadata": {
        "id": "Ij6RjIk0bTTG"
      },
      "source": [
        "print(input_shape)\n",
        "print(x_train.shape)\n",
        "print(x_train_model.shape)"
      ],
      "execution_count": null,
      "outputs": []
    },
    {
      "cell_type": "code",
      "metadata": {
        "id": "ciAYx6BLlFmS"
      },
      "source": [
        "model = Sequential(name=\"HandSignToSpeech\")\n",
        "\n",
        "model.add(Conv2D(32, (3, 3), activation='relu', input_shape=input_shape))\n",
        "model.add(MaxPooling2D((2, 2)))\n",
        "model.add(Conv2D(16, (3, 3), activation='relu'))\n",
        "model.add(MaxPooling2D((2, 2)))\n",
        "model.add(Flatten())\n",
        "model.add(Dense(128, activation='relu'))\n",
        "# model.add(Dropout(0.15))\n",
        "# model.add(Dense(128, activation='relu'))\n",
        "model.add(Dense(11, activation='softmax'))\n",
        "\n",
        "model.compile(loss='categorical_crossentropy', optimizer=\"adam\", metrics=['accuracy'])\n",
        "model.summary()"
      ],
      "execution_count": null,
      "outputs": []
    },
    {
      "cell_type": "code",
      "metadata": {
        "id": "dMP3rlaunwAj"
      },
      "source": [
        "model.fit(x=x_train_model, y=y_train, epochs=10)"
      ],
      "execution_count": null,
      "outputs": []
    },
    {
      "cell_type": "code",
      "metadata": {
        "id": "6h4raF_irHuE"
      },
      "source": [
        "model.evaluate(x=x_test_model, y=y_test)"
      ],
      "execution_count": null,
      "outputs": []
    },
    {
      "cell_type": "code",
      "metadata": {
        "id": "vWMU-Hze1mSx"
      },
      "source": [
        "try:\n",
        "  filename = take_photo()\n",
        "  print('Saved to {}'.format(filename))\n",
        "  img = cv2.imread('/content/photo.jpg')\n",
        "  plt.imshow(img)\n",
        "  plt.show()\n",
        "except Exception as err:\n",
        "  print(str(err))"
      ],
      "execution_count": null,
      "outputs": []
    },
    {
      "cell_type": "code",
      "metadata": {
        "id": "YyYWTltu6dHB"
      },
      "source": [
        "img = cv2.imread('/content/photo.jpg')\n",
        "img = cv2.Canny(img, 0, 250)\n",
        "plt.imshow(img, cmap='gray')\n",
        "plt.show()"
      ],
      "execution_count": null,
      "outputs": []
    },
    {
      "cell_type": "code",
      "metadata": {
        "id": "M1LQ26yyHfiV"
      },
      "source": [
        "img = cv2.flip(img, 1)\n",
        "plt.imshow(img,cmap = 'gray')"
      ],
      "execution_count": null,
      "outputs": []
    },
    {
      "cell_type": "code",
      "metadata": {
        "id": "9H_hItFJGrYR"
      },
      "source": [
        "img = img[10:350,250:490]\n",
        "plt.imshow(img,cmap='gray')\n",
        "plt.show()"
      ],
      "execution_count": null,
      "outputs": []
    },
    {
      "cell_type": "code",
      "metadata": {
        "id": "PMnqYrfqG_vD"
      },
      "source": [
        "imageSize = 50\n",
        "img = skimage.transform.resize(img, (imageSize, imageSize))\n",
        "plt.imshow(img,cmap='gray')\n",
        "plt.show()"
      ],
      "execution_count": null,
      "outputs": []
    },
    {
      "cell_type": "code",
      "metadata": {
        "id": "y4psQHEUaYh_"
      },
      "source": [
        "pred = model.predict(img.reshape(1, img.shape[0], img.shape[1], 1))\n",
        "pred_cls = np.argmax(pred)\n",
        "print(pred,pred_cls)"
      ],
      "execution_count": null,
      "outputs": []
    }
  ]
}
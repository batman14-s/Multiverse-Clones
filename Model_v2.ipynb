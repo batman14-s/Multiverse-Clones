{
  "nbformat": 4,
  "nbformat_minor": 0,
  "metadata": {
    "colab": {
      "name": "FinalMLmodel.ipynb",
      "provenance": [],
      "collapsed_sections": []
    },
    "kernelspec": {
      "name": "python3",
      "display_name": "Python 3"
    },
    "language_info": {
      "name": "python"
    }
  },
  "cells": [
    {
      "cell_type": "code",
      "metadata": {
        "id": "dGtT_dcmW3FU"
      },
      "source": [
        "import os\n",
        "import cv2\n",
        "import numpy as np\n",
        "import pandas as pd\n",
        "import sklearn\n",
        "from tqdm import tqdm\n",
        "import skimage\n",
        "from skimage import transform\n",
        "from numpy import load\n",
        "from sklearn.model_selection import train_test_split\n",
        "from google.colab import drive\n",
        "import matplotlib.pyplot as plt\n",
        "import random\n",
        "import tensorflow as tf\n",
        "from tensorflow.keras.models import Sequential, Model\n",
        "from tensorflow.keras.layers import Dense, Conv2D, MaxPooling2D, Flatten, Dropout, GlobalAveragePooling2D, Concatenate, Input\n",
        "from IPython.display import display, Javascript, Image\n",
        "from google.colab.output import eval_js\n",
        "from base64 import b64decode"
      ],
      "execution_count": 1,
      "outputs": []
    },
    {
      "cell_type": "code",
      "metadata": {
        "id": "u7BRadTxXBm9"
      },
      "source": [
        "drive.mount('/content/drive')"
      ],
      "execution_count": null,
      "outputs": []
    },
    {
      "cell_type": "code",
      "metadata": {
        "id": "vXoQOVKWXgKy"
      },
      "source": [
        "!mkdir \"/content/Data\"\n",
        "!unzip \"/content/drive/Shareddrives/Multiverse Clones/FinalTestingData/FinalTestingData.zip\" -d \"/content/Data\""
      ],
      "execution_count": null,
      "outputs": []
    },
    {
      "cell_type": "code",
      "metadata": {
        "id": "ntdRXlqT4j98"
      },
      "source": [
        "def get_data(folder,countMax):\n",
        "    x = []\n",
        "    y = []\n",
        "    for folderName in os.listdir(folder):\n",
        "        label = folderName\n",
        "        print(label)\n",
        "        for image_filename in tqdm(os.listdir(folder + \"/\" + folderName)[0:countMax]):\n",
        "            img = cv2.imread(folder +'/' + folderName + '/' + image_filename)\n",
        "            if img is not None:\n",
        "                x.append(img)\n",
        "                y.append(label)\n",
        "    x = np.array(x)\n",
        "    y = np.array(y)\n",
        "    return x, y\n",
        "\n",
        "def saveNpy(name,array):\n",
        "  np.save(name,array)\n",
        "\n",
        "def loadNpy(location):\n",
        "  return load(location)\n",
        "  # load('/content/drive/Shareddrives/Multiverse Clones/SelfMadeData/NpyFiles/data_train_attribute.npy')\n",
        "\n",
        "def cropImage(img,noOfIter):\n",
        "  for i in range(0,noOfIter):\n",
        "    ybottom = 0\n",
        "    ytop = img.shape[1]\n",
        "    for i in range(0,len(img)):\n",
        "      for j in range(0,len(img[i])):\n",
        "        if(img[i][j]!=0):\n",
        "          ytop = min(ytop,i)\n",
        "          ybottom = max(ybottom,i)\n",
        "          break\n",
        "\n",
        "    xleft = img.shape[1]\n",
        "    xright = 0\n",
        "    for j in range(0,len(img[0])):\n",
        "      for i in range(0,len(img)):\n",
        "        if(img[i][j]!=0):\n",
        "          xleft = min(xleft,j)\n",
        "          xright = max(xright,j)\n",
        "          break\n",
        "    img = img[ytop:ybottom,xleft:xright]\n",
        "  return img\n",
        "\n",
        "def showGrayImage(img):\n",
        "  plt.imshow(img,cmap = 'gray')\n",
        "  plt.show()\n",
        "\n",
        "def resizeImage(img,imageSize):\n",
        "  return skimage.transform.resize(img, (imageSize, imageSize))\n",
        "\n",
        "def oneHotEncoding(a,size):\n",
        "  return tf.one_hot(a.reshape(-1), size)\n",
        "\n",
        "def getOutline(img):\n",
        "  outline_kernel = np.array([[-1, -1, -1],\n",
        "                           [-1, 8, -1],\n",
        "                           [-1, -1, -1]])\n",
        "  return cv2.filter2D(img, -1, outline_kernel)\n",
        "\n",
        "def convertImagesToOutline(a):\n",
        "  b = []\n",
        "  for i in a:\n",
        "    tmp = getOutline(i)\n",
        "    b.append(tmp)\n",
        "  return np.array(b)\n",
        "\n",
        "def cropAndResize(data,noOfIter):\n",
        "  corrData = []\n",
        "  for img in tqdm(dat):\n",
        "    corrData.append(resizeImage(cropImage(img,noOfIter),50))\n",
        "  return np.array(corrData)\n",
        "\n",
        "def take_photo(filename='photo.jpg', quality=1):\n",
        "  js = Javascript('''\n",
        "    async function takePhoto(quality) {\n",
        "      const div = document.createElement('div');\n",
        "      const capture = document.createElement('button');\n",
        "      capture.textContent = 'Capture';\n",
        "      div.appendChild(capture);\n",
        "\n",
        "      const video = document.createElement('video');\n",
        "      video.style.display = 'block';\n",
        "      const stream = await navigator.mediaDevices.getUserMedia({video: true});\n",
        "\n",
        "      document.body.appendChild(div);\n",
        "      div.appendChild(video);\n",
        "      video.srcObject = stream;\n",
        "      await video.play();\n",
        "\n",
        "      // Resize the output to fit the video element.\n",
        "      google.colab.output.setIframeHeight(document.documentElement.scrollHeight, true);\n",
        "\n",
        "      // Wait for Capture to be clicked.\n",
        "      await new Promise((resolve) => capture.onclick = resolve);\n",
        "\n",
        "      const canvas = document.createElement('canvas');\n",
        "      canvas.width = video.videoWidth;\n",
        "      canvas.height = video.videoHeight;\n",
        "      canvas.getContext('2d').drawImage(video, 0, 0);\n",
        "      stream.getVideoTracks()[0].stop();\n",
        "      div.remove();\n",
        "      return canvas.toDataURL('image/jpeg', quality);\n",
        "    }\n",
        "    ''')\n",
        "  display(js)\n",
        "  data = eval_js('takePhoto({})'.format(quality))\n",
        "  binary = b64decode(data.split(',')[1])\n",
        "  with open(filename, 'wb') as f:\n",
        "    f.write(binary)\n",
        "  return filename\n",
        "\n",
        "def convertToCanny(data,LowIntensity,HighIntensity):\n",
        "  tmp = []\n",
        "  for i in tqdm(data):\n",
        "    tmp.append(cv2.Canny(i,LowIntensity,HighIntensity))\n",
        "  return np.array(tmp)\n",
        "\n",
        "def printData(data,oneLine):\n",
        "  count = 0\n",
        "  for i in range(0,len(data)):\n",
        "    count+=1\n",
        "    print(data[i],end = ' ')\n",
        "    if(count>oneLine):\n",
        "      count=0\n",
        "      print()\n",
        "\n",
        "def getClassMap(data):\n",
        "  uniqueElements = list(set(data))\n",
        "  classNo = 0\n",
        "  classMap = {}\n",
        "  for i in uniqueElements:\n",
        "    classMap[i] = classNo\n",
        "    classNo += 1\n",
        "  return classMap\n",
        "\n",
        "def replaceWithClass(data,classMap):\n",
        "  tmp = []\n",
        "  for i in range(0,len(data)):\n",
        "    tmp.append(classMap[data[i]])\n",
        "  return np.array(tmp)\n",
        "\n",
        "def getCorrectClass(tmpClass,classMap):\n",
        "  for key, value in classMap.items():\n",
        "         if value == tmpClass:\n",
        "             return key\n",
        "\n",
        "def getIndex(data):\n",
        "  for i in range(0,len(data)):\n",
        "    if(data[i]!=0):\n",
        "      return i\n",
        "\n",
        "def resizeData(data,imageSize):\n",
        "  tmp = []\n",
        "  for img in tqdm(data):\n",
        "    tmp.append(skimage.transform.resize(img, (imageSize, imageSize)))\n",
        "  return np.array(tmp)\n"
      ],
      "execution_count": 172,
      "outputs": []
    },
    {
      "cell_type": "code",
      "metadata": {
        "id": "Of5uec1DwTqY"
      },
      "source": [
        "# img_float32 = np.float32(x_train[0])\n",
        "# gryimg = cv2.cvtColor(img_float32, cv2.COLOR_BGR2GRAY)"
      ],
      "execution_count": null,
      "outputs": []
    },
    {
      "cell_type": "code",
      "metadata": {
        "id": "yQ-cGDa0XecI"
      },
      "source": [
        "x, y = get_data(\"/content/Data/\",400)\n",
        "x_train, x_test, y_train, y_test = train_test_split(x, y, test_size = 0.3, random_state = 2)\n",
        "del x\n",
        "del y"
      ],
      "execution_count": null,
      "outputs": []
    },
    {
      "cell_type": "code",
      "metadata": {
        "id": "sdzmYcNWvwj-"
      },
      "source": [
        "rnd_idx = random.randint(0,len(x_train)-1)\n",
        "img = x_train[rnd_idx]\n",
        "plt.imshow(img)\n",
        "plt.show()\n",
        "print(y_train[rnd_idx])\n",
        "img = cv2.Canny(img, 50, 200)\n",
        "plt.imshow(img,cmap='gray')\n",
        "plt.show()"
      ],
      "execution_count": null,
      "outputs": []
    },
    {
      "cell_type": "code",
      "metadata": {
        "id": "y8vC4sOVuZT1"
      },
      "source": [
        "x_train = convertToCanny(x_train,100,200)\n",
        "x_test = convertToCanny(x_test,100,200)"
      ],
      "execution_count": null,
      "outputs": []
    },
    {
      "cell_type": "code",
      "metadata": {
        "id": "1nYfQpsHyAsM"
      },
      "source": [
        "rnd_idx = random.randint(0,len(x_train)-1)\n",
        "img = x_train[rnd_idx]\n",
        "\n",
        "print(y_train[rnd_idx])\n",
        "plt.imshow(img,cmap = 'gray')\n",
        "plt.show()"
      ],
      "execution_count": null,
      "outputs": []
    },
    {
      "cell_type": "code",
      "metadata": {
        "id": "S_41MdjU6Ua2"
      },
      "source": [
        "x_train = resizeData(x_train,100)\n",
        "x_test = resizeData(x_test,100)"
      ],
      "execution_count": null,
      "outputs": []
    },
    {
      "cell_type": "code",
      "metadata": {
        "id": "3TmjSvbLIaFn"
      },
      "source": [
        "# saveNpy('x_train.npy',x_train)\n",
        "# saveNpy('x_test.npy',x_test)\n",
        "# saveNpy('y_train.npy',y_train)\n",
        "# saveNpy('y_test.npy',y_test)"
      ],
      "execution_count": null,
      "outputs": []
    },
    {
      "cell_type": "code",
      "metadata": {
        "id": "I3XA_d98KOe-"
      },
      "source": [
        "# x_train = load('/content/drive/Shareddrives/Multiverse Clones/WorkingModelData/Npy of 200pg/x_train.npy')\n",
        "# x_test = load('/content/drive/Shareddrives/Multiverse Clones/WorkingModelData/Npy of 200pg/x_test.npy')\n",
        "# y_train = load('/content/drive/Shareddrives/Multiverse Clones/WorkingModelData/Npy of 200pg/y_train.npy')\n",
        "# y_test = load('/content/drive/Shareddrives/Multiverse Clones/WorkingModelData/Npy of 200pg/y_test.npy')"
      ],
      "execution_count": null,
      "outputs": []
    },
    {
      "cell_type": "code",
      "metadata": {
        "id": "jOhuXXY0yb4B"
      },
      "source": [
        "printData(y_train,50)"
      ],
      "execution_count": null,
      "outputs": []
    },
    {
      "cell_type": "code",
      "metadata": {
        "id": "zoEztNLpzSMc"
      },
      "source": [
        "# classMap = getClassMap(y_train)\n",
        "classMap = {'0':0, '1':1, '2':2, '3':3, '4':4, '5':5, 'EQUALS':6, 'NONE':7, 'PLUS':8}"
      ],
      "execution_count": null,
      "outputs": []
    },
    {
      "cell_type": "code",
      "metadata": {
        "id": "HQIZXR001afK"
      },
      "source": [
        "y_train = replaceWithClass(y_train,classMap)\n",
        "y_test = replaceWithClass(y_test,classMap)"
      ],
      "execution_count": 251,
      "outputs": []
    },
    {
      "cell_type": "code",
      "metadata": {
        "id": "ZnpBnhks3SME"
      },
      "source": [
        "printData(y_train,50)"
      ],
      "execution_count": null,
      "outputs": []
    },
    {
      "cell_type": "code",
      "metadata": {
        "id": "25Z2sWcpXpIN"
      },
      "source": [
        "size = 9\n",
        "y_train = oneHotEncoding(y_train,size)\n",
        "y_test = oneHotEncoding(y_test,size)"
      ],
      "execution_count": 253,
      "outputs": []
    },
    {
      "cell_type": "code",
      "metadata": {
        "id": "oq4f4Mgg_OXJ"
      },
      "source": [
        "for i in y_train:\n",
        "  print(i)"
      ],
      "execution_count": null,
      "outputs": []
    },
    {
      "cell_type": "code",
      "metadata": {
        "id": "gvWCCqe8Ll26"
      },
      "source": [
        "rnd_idx = random.randint(0,len(x_train)-1)\n",
        "img = x_train[rnd_idx]\n",
        "label = y_train[rnd_idx]\n",
        "label = getCorrectClass(getIndex(label),classMap)\n",
        "\n",
        "print(label)\n",
        "showGrayImage(img)"
      ],
      "execution_count": null,
      "outputs": []
    },
    {
      "cell_type": "code",
      "metadata": {
        "id": "jqe-vkL6T4wp"
      },
      "source": [
        "# Set input shape\n",
        "sample_shape = x_train[0].shape\n",
        "img_width, img_height = sample_shape[0], sample_shape[1]\n",
        "input_shape = (img_width, img_height, 1)\n",
        "\n",
        "# Reshape data \n",
        "x_train_model = x_train.reshape(len(x_train), input_shape[0], input_shape[1], input_shape[2])\n",
        "x_test_model  = x_test.reshape(len(x_test), input_shape[0], input_shape[1], input_shape[2])"
      ],
      "execution_count": 256,
      "outputs": []
    },
    {
      "cell_type": "code",
      "metadata": {
        "id": "Ij6RjIk0bTTG",
        "colab": {
          "base_uri": "https://localhost:8080/"
        },
        "outputId": "7f452f30-bb2a-4866-8dd1-219e0088d50b"
      },
      "source": [
        "print(input_shape)\n",
        "print(x_train.shape)\n",
        "print(x_train_model.shape)"
      ],
      "execution_count": 257,
      "outputs": [
        {
          "output_type": "stream",
          "name": "stdout",
          "text": [
            "(100, 100, 1)\n",
            "(2520, 100, 100)\n",
            "(2520, 100, 100, 1)\n"
          ]
        }
      ]
    },
    {
      "cell_type": "code",
      "metadata": {
        "id": "ciAYx6BLlFmS"
      },
      "source": [
        "model = Sequential(name=\"HandSignToSpeech\")\n",
        "\n",
        "model.add(Conv2D(32, (3, 3), activation='relu', input_shape=input_shape))\n",
        "model.add(MaxPooling2D((2, 2)))\n",
        "model.add(Conv2D(16, (3, 3), activation='relu'))\n",
        "model.add(MaxPooling2D((2, 2)))\n",
        "model.add(Flatten())\n",
        "model.add(Dense(128, activation='relu'))\n",
        "# model.add(Dropout(0.15))\n",
        "# model.add(Dense(128, activation='relu'))\n",
        "model.add(Dense(9, activation='softmax'))\n",
        "\n",
        "model.compile(loss='categorical_crossentropy', optimizer=\"adam\", metrics=['accuracy'])\n",
        "model.summary()"
      ],
      "execution_count": null,
      "outputs": []
    },
    {
      "cell_type": "code",
      "metadata": {
        "id": "dMP3rlaunwAj"
      },
      "source": [
        "model.fit(x=x_train_model, y=y_train, epochs=3)"
      ],
      "execution_count": null,
      "outputs": []
    },
    {
      "cell_type": "code",
      "metadata": {
        "id": "6h4raF_irHuE"
      },
      "source": [
        "model.evaluate(x=x_test_model, y=y_test)"
      ],
      "execution_count": null,
      "outputs": []
    },
    {
      "cell_type": "code",
      "metadata": {
        "id": "vWMU-Hze1mSx"
      },
      "source": [
        "try:\n",
        "  filename = take_photo()\n",
        "  print('Saved to {}'.format(filename))\n",
        "  img = cv2.imread('/content/photo.jpg')\n",
        "  plt.imshow(img)\n",
        "  plt.show()\n",
        "except Exception as err:\n",
        "  print(str(err))"
      ],
      "execution_count": null,
      "outputs": []
    },
    {
      "cell_type": "code",
      "metadata": {
        "id": "YyYWTltu6dHB",
        "colab": {
          "base_uri": "https://localhost:8080/",
          "height": 269
        },
        "outputId": "fe3d43cc-5427-4f0c-f7d5-6b44c1182b1d"
      },
      "source": [
        "img = cv2.imread('/content/photo.jpg')\n",
        "img = cv2.Canny(img, 50, 80)\n",
        "plt.imshow(img, cmap='gray')\n",
        "plt.show()"
      ],
      "execution_count": 310,
      "outputs": [
        {
          "output_type": "display_data",
          "data": {
            "image/png": "[encoded data removed]",
            "text/plain": [
              "<Figure size 432x288 with 1 Axes>"
            ]
          },
          "metadata": {
            "needs_background": "light"
          }
        }
      ]
    },
    {
      "cell_type": "code",
      "metadata": {
        "id": "9H_hItFJGrYR"
      },
      "source": [
        "# img = img[0:500,50:500]\n",
        "# plt.imshow(img,cmap='gray')\n",
        "# plt.show()\n",
        "# img = cv2.flip(img, 1)\n",
        "# plt.imshow(img,cmap = 'gray')"
      ],
      "execution_count": null,
      "outputs": []
    },
    {
      "cell_type": "code",
      "metadata": {
        "id": "PMnqYrfqG_vD"
      },
      "source": [
        "imageSize = 100\n",
        "img = skimage.transform.resize(img, (imageSize, imageSize))\n",
        "plt.imshow(img,cmap='gray')\n",
        "plt.show()"
      ],
      "execution_count": null,
      "outputs": []
    },
    {
      "cell_type": "code",
      "metadata": {
        "id": "y4psQHEUaYh_",
        "colab": {
          "base_uri": "https://localhost:8080/"
        },
        "outputId": "0c9493b4-11d9-45c3-e8a8-1f4dd7624ba4"
      },
      "source": [
        "pred = model.predict(img.reshape(1, img.shape[0], img.shape[1], 1))\n",
        "pred_cls = np.argmax(pred)\n",
        "print(pred)\n",
        "print(getCorrectClass(pred_cls,classMap))"
      ],
      "execution_count": 304,
      "outputs": [
        {
          "output_type": "stream",
          "name": "stdout",
          "text": [
            "[[6.2946541e-09 1.7891888e-09 1.3292364e-06 9.7588718e-06 7.9387861e-01\n",
            "  2.0376185e-01 3.8945687e-09 2.3483338e-03 6.8552382e-08]]\n",
            "4\n"
          ]
        }
      ]
    },
    {
      "cell_type": "code",
      "metadata": {
        "id": "1voUTOqiGKDb"
      },
      "source": [
        "model.save(\"WrongDataModel.h5\")"
      ],
      "execution_count": 305,
      "outputs": []
    }
  ]
}